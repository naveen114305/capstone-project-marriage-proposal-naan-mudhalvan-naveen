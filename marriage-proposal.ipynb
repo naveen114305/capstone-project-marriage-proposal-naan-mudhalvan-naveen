{
 "cells": [
  {
   "cell_type": "code",
   "execution_count": 1,
   "id": "0819be88",
   "metadata": {
    "_cell_guid": "b1076dfc-b9ad-4769-8c92-a6c4dae69d19",
    "_uuid": "8f2839f25d086af736a60e9eeb907d3b93b6e0e5",
    "execution": {
     "iopub.execute_input": "2024-04-03T07:02:24.508782Z",
     "iopub.status.busy": "2024-04-03T07:02:24.507664Z",
     "iopub.status.idle": "2024-04-03T07:02:25.535686Z",
     "shell.execute_reply": "2024-04-03T07:02:25.534430Z"
    },
    "papermill": {
     "duration": 1.044465,
     "end_time": "2024-04-03T07:02:25.538737",
     "exception": false,
     "start_time": "2024-04-03T07:02:24.494272",
     "status": "completed"
    },
    "tags": []
   },
   "outputs": [],
   "source": [
    "# This Python 3 environment comes with many helpful analytics libraries installed\n",
    "# It is defined by the kaggle/python Docker image: https://github.com/kaggle/docker-python\n",
    "# For example, here's several helpful packages to load\n",
    "\n",
    "import numpy as np # linear algebra\n",
    "import pandas as pd # data processing, CSV file I/O (e.g. pd.read_csv)\n",
    "\n",
    "# Input data files are available in the read-only \"../input/\" directory\n",
    "# For example, running this (by clicking run or pressing Shift+Enter) will list all files under the input directory\n",
    "\n",
    "import os\n",
    "for dirname, _, filenames in os.walk('/kaggle/input'):\n",
    "    for filename in filenames:\n",
    "        print(os.path.join(dirname, filename))\n",
    "\n",
    "# You can write up to 20GB to the current directory (/kaggle/working/) that gets preserved as output when you create a version using \"Save & Run All\" \n",
    "# You can also write temporary files to /kaggle/temp/, but they won't be saved outside of the current session"
   ]
  },
  {
   "cell_type": "code",
   "execution_count": 2,
   "id": "361e2a3d",
   "metadata": {
    "execution": {
     "iopub.execute_input": "2024-04-03T07:02:25.568737Z",
     "iopub.status.busy": "2024-04-03T07:02:25.568204Z",
     "iopub.status.idle": "2024-04-03T07:02:27.201508Z",
     "shell.execute_reply": "2024-04-03T07:02:27.200521Z"
    },
    "papermill": {
     "duration": 1.648934,
     "end_time": "2024-04-03T07:02:27.204217",
     "exception": false,
     "start_time": "2024-04-03T07:02:25.555283",
     "status": "completed"
    },
    "tags": []
   },
   "outputs": [],
   "source": [
    "import numpy as np\n",
    "import pandas as pd\n",
    "import matplotlib.pyplot as plt\n",
    "import seaborn as sns\n",
    "import warnings\n",
    "warnings.filterwarnings(\"ignore\")\n",
    "plt.rcParams['figure.figsize']=[10,5]"
   ]
  },
  {
   "cell_type": "code",
   "execution_count": 3,
   "id": "03ddf289",
   "metadata": {
    "execution": {
     "iopub.execute_input": "2024-04-03T07:02:27.231692Z",
     "iopub.status.busy": "2024-04-03T07:02:27.230905Z",
     "iopub.status.idle": "2024-04-03T07:02:27.277721Z",
     "shell.execute_reply": "2024-04-03T07:02:27.276440Z"
    },
    "papermill": {
     "duration": 0.064135,
     "end_time": "2024-04-03T07:02:27.280698",
     "exception": false,
     "start_time": "2024-04-03T07:02:27.216563",
     "status": "completed"
    },
    "tags": []
   },
   "outputs": [
    {
     "data": {
      "text/html": [
       "<div>\n",
       "<style scoped>\n",
       "    .dataframe tbody tr th:only-of-type {\n",
       "        vertical-align: middle;\n",
       "    }\n",
       "\n",
       "    .dataframe tbody tr th {\n",
       "        vertical-align: top;\n",
       "    }\n",
       "\n",
       "    .dataframe thead th {\n",
       "        text-align: right;\n",
       "    }\n",
       "</style>\n",
       "<table border=\"1\" class=\"dataframe\">\n",
       "  <thead>\n",
       "    <tr style=\"text-align: right;\">\n",
       "      <th></th>\n",
       "      <th>Height</th>\n",
       "      <th>Age</th>\n",
       "      <th>Income</th>\n",
       "      <th>RomanticGestureScore</th>\n",
       "      <th>CompatibilityScore</th>\n",
       "      <th>CommunicationScore</th>\n",
       "      <th>DistanceKM</th>\n",
       "      <th>Response</th>\n",
       "      <th>AgeCategory</th>\n",
       "    </tr>\n",
       "  </thead>\n",
       "  <tbody>\n",
       "    <tr>\n",
       "      <th>0</th>\n",
       "      <td>156</td>\n",
       "      <td>59</td>\n",
       "      <td>7977</td>\n",
       "      <td>3</td>\n",
       "      <td>1</td>\n",
       "      <td>1</td>\n",
       "      <td>45</td>\n",
       "      <td>1</td>\n",
       "      <td>Senior</td>\n",
       "    </tr>\n",
       "    <tr>\n",
       "      <th>1</th>\n",
       "      <td>169</td>\n",
       "      <td>32</td>\n",
       "      <td>5842</td>\n",
       "      <td>0</td>\n",
       "      <td>1</td>\n",
       "      <td>5</td>\n",
       "      <td>46</td>\n",
       "      <td>1</td>\n",
       "      <td>Middle-aged</td>\n",
       "    </tr>\n",
       "    <tr>\n",
       "      <th>2</th>\n",
       "      <td>178</td>\n",
       "      <td>42</td>\n",
       "      <td>17638</td>\n",
       "      <td>2</td>\n",
       "      <td>5</td>\n",
       "      <td>5</td>\n",
       "      <td>13</td>\n",
       "      <td>0</td>\n",
       "      <td>Middle-aged</td>\n",
       "    </tr>\n",
       "    <tr>\n",
       "      <th>3</th>\n",
       "      <td>164</td>\n",
       "      <td>78</td>\n",
       "      <td>8793</td>\n",
       "      <td>0</td>\n",
       "      <td>0</td>\n",
       "      <td>7</td>\n",
       "      <td>52</td>\n",
       "      <td>0</td>\n",
       "      <td>Senior</td>\n",
       "    </tr>\n",
       "    <tr>\n",
       "      <th>4</th>\n",
       "      <td>160</td>\n",
       "      <td>35</td>\n",
       "      <td>15262</td>\n",
       "      <td>6</td>\n",
       "      <td>0</td>\n",
       "      <td>0</td>\n",
       "      <td>9</td>\n",
       "      <td>1</td>\n",
       "      <td>Middle-aged</td>\n",
       "    </tr>\n",
       "  </tbody>\n",
       "</table>\n",
       "</div>"
      ],
      "text/plain": [
       "   Height  Age  Income  RomanticGestureScore  CompatibilityScore  \\\n",
       "0     156   59    7977                     3                   1   \n",
       "1     169   32    5842                     0                   1   \n",
       "2     178   42   17638                     2                   5   \n",
       "3     164   78    8793                     0                   0   \n",
       "4     160   35   15262                     6                   0   \n",
       "\n",
       "   CommunicationScore  DistanceKM  Response  AgeCategory  \n",
       "0                   1          45         1       Senior  \n",
       "1                   5          46         1  Middle-aged  \n",
       "2                   5          13         0  Middle-aged  \n",
       "3                   7          52         0       Senior  \n",
       "4                   0           9         1  Middle-aged  "
      ]
     },
     "execution_count": 3,
     "metadata": {},
     "output_type": "execute_result"
    }
   ],
   "source": [
    "df=pd.read_csv('marriage_proposal.csv')\n",
    "df.head()"
   ]
  },
  {
   "cell_type": "code",
   "execution_count": 4,
   "id": "caa08b76",
   "metadata": {
    "execution": {
     "iopub.execute_input": "2024-04-03T07:02:27.306861Z",
     "iopub.status.busy": "2024-04-03T07:02:27.306209Z",
     "iopub.status.idle": "2024-04-03T07:02:27.312916Z",
     "shell.execute_reply": "2024-04-03T07:02:27.312072Z"
    },
    "papermill": {
     "duration": 0.022133,
     "end_time": "2024-04-03T07:02:27.315306",
     "exception": false,
     "start_time": "2024-04-03T07:02:27.293173",
     "status": "completed"
    },
    "tags": []
   },
   "outputs": [
    {
     "data": {
      "text/plain": [
       "(10000, 9)"
      ]
     },
     "execution_count": 4,
     "metadata": {},
     "output_type": "execute_result"
    }
   ],
   "source": [
    "df.shape"
   ]
  },
  {
   "cell_type": "code",
   "execution_count": 5,
   "id": "b916b179",
   "metadata": {
    "execution": {
     "iopub.execute_input": "2024-04-03T07:02:27.342578Z",
     "iopub.status.busy": "2024-04-03T07:02:27.341600Z",
     "iopub.status.idle": "2024-04-03T07:02:27.355777Z",
     "shell.execute_reply": "2024-04-03T07:02:27.354935Z"
    },
    "papermill": {
     "duration": 0.030727,
     "end_time": "2024-04-03T07:02:27.358144",
     "exception": false,
     "start_time": "2024-04-03T07:02:27.327417",
     "status": "completed"
    },
    "tags": []
   },
   "outputs": [
    {
     "data": {
      "text/html": [
       "<div>\n",
       "<style scoped>\n",
       "    .dataframe tbody tr th:only-of-type {\n",
       "        vertical-align: middle;\n",
       "    }\n",
       "\n",
       "    .dataframe tbody tr th {\n",
       "        vertical-align: top;\n",
       "    }\n",
       "\n",
       "    .dataframe thead th {\n",
       "        text-align: right;\n",
       "    }\n",
       "</style>\n",
       "<table border=\"1\" class=\"dataframe\">\n",
       "  <thead>\n",
       "    <tr style=\"text-align: right;\">\n",
       "      <th></th>\n",
       "      <th>Height</th>\n",
       "      <th>Age</th>\n",
       "      <th>Income</th>\n",
       "      <th>RomanticGestureScore</th>\n",
       "      <th>CompatibilityScore</th>\n",
       "      <th>CommunicationScore</th>\n",
       "      <th>DistanceKM</th>\n",
       "      <th>Response</th>\n",
       "      <th>AgeCategory</th>\n",
       "    </tr>\n",
       "  </thead>\n",
       "  <tbody>\n",
       "    <tr>\n",
       "      <th>0</th>\n",
       "      <td>156</td>\n",
       "      <td>59</td>\n",
       "      <td>7977</td>\n",
       "      <td>3</td>\n",
       "      <td>1</td>\n",
       "      <td>1</td>\n",
       "      <td>45</td>\n",
       "      <td>1</td>\n",
       "      <td>Senior</td>\n",
       "    </tr>\n",
       "    <tr>\n",
       "      <th>1</th>\n",
       "      <td>169</td>\n",
       "      <td>32</td>\n",
       "      <td>5842</td>\n",
       "      <td>0</td>\n",
       "      <td>1</td>\n",
       "      <td>5</td>\n",
       "      <td>46</td>\n",
       "      <td>1</td>\n",
       "      <td>Middle-aged</td>\n",
       "    </tr>\n",
       "    <tr>\n",
       "      <th>2</th>\n",
       "      <td>178</td>\n",
       "      <td>42</td>\n",
       "      <td>17638</td>\n",
       "      <td>2</td>\n",
       "      <td>5</td>\n",
       "      <td>5</td>\n",
       "      <td>13</td>\n",
       "      <td>0</td>\n",
       "      <td>Middle-aged</td>\n",
       "    </tr>\n",
       "    <tr>\n",
       "      <th>3</th>\n",
       "      <td>164</td>\n",
       "      <td>78</td>\n",
       "      <td>8793</td>\n",
       "      <td>0</td>\n",
       "      <td>0</td>\n",
       "      <td>7</td>\n",
       "      <td>52</td>\n",
       "      <td>0</td>\n",
       "      <td>Senior</td>\n",
       "    </tr>\n",
       "    <tr>\n",
       "      <th>4</th>\n",
       "      <td>160</td>\n",
       "      <td>35</td>\n",
       "      <td>15262</td>\n",
       "      <td>6</td>\n",
       "      <td>0</td>\n",
       "      <td>0</td>\n",
       "      <td>9</td>\n",
       "      <td>1</td>\n",
       "      <td>Middle-aged</td>\n",
       "    </tr>\n",
       "  </tbody>\n",
       "</table>\n",
       "</div>"
      ],
      "text/plain": [
       "   Height  Age  Income  RomanticGestureScore  CompatibilityScore  \\\n",
       "0     156   59    7977                     3                   1   \n",
       "1     169   32    5842                     0                   1   \n",
       "2     178   42   17638                     2                   5   \n",
       "3     164   78    8793                     0                   0   \n",
       "4     160   35   15262                     6                   0   \n",
       "\n",
       "   CommunicationScore  DistanceKM  Response  AgeCategory  \n",
       "0                   1          45         1       Senior  \n",
       "1                   5          46         1  Middle-aged  \n",
       "2                   5          13         0  Middle-aged  \n",
       "3                   7          52         0       Senior  \n",
       "4                   0           9         1  Middle-aged  "
      ]
     },
     "execution_count": 5,
     "metadata": {},
     "output_type": "execute_result"
    }
   ],
   "source": [
    "df.head()"
   ]
  },
  {
   "cell_type": "code",
   "execution_count": 6,
   "id": "3114a554",
   "metadata": {
    "execution": {
     "iopub.execute_input": "2024-04-03T07:02:27.385555Z",
     "iopub.status.busy": "2024-04-03T07:02:27.384522Z",
     "iopub.status.idle": "2024-04-03T07:02:27.395572Z",
     "shell.execute_reply": "2024-04-03T07:02:27.394420Z"
    },
    "papermill": {
     "duration": 0.028281,
     "end_time": "2024-04-03T07:02:27.398824",
     "exception": false,
     "start_time": "2024-04-03T07:02:27.370543",
     "status": "completed"
    },
    "tags": []
   },
   "outputs": [
    {
     "data": {
      "text/plain": [
       "array(['Senior', 'Middle-aged', 'Young', nan], dtype=object)"
      ]
     },
     "execution_count": 6,
     "metadata": {},
     "output_type": "execute_result"
    }
   ],
   "source": [
    "df['AgeCategory'].unique()"
   ]
  },
  {
   "cell_type": "code",
   "execution_count": 7,
   "id": "5f27717c",
   "metadata": {
    "execution": {
     "iopub.execute_input": "2024-04-03T07:02:27.429894Z",
     "iopub.status.busy": "2024-04-03T07:02:27.429017Z",
     "iopub.status.idle": "2024-04-03T07:02:27.452465Z",
     "shell.execute_reply": "2024-04-03T07:02:27.451053Z"
    },
    "papermill": {
     "duration": 0.042502,
     "end_time": "2024-04-03T07:02:27.455051",
     "exception": false,
     "start_time": "2024-04-03T07:02:27.412549",
     "status": "completed"
    },
    "tags": []
   },
   "outputs": [
    {
     "data": {
      "text/plain": [
       "(21, 30)"
      ]
     },
     "execution_count": 7,
     "metadata": {},
     "output_type": "execute_result"
    }
   ],
   "source": [
    "df[df['AgeCategory']=='Young']['Age'].min(),df[df['AgeCategory']=='Young']['Age'].max()"
   ]
  },
  {
   "cell_type": "code",
   "execution_count": 8,
   "id": "3357e5f4",
   "metadata": {
    "execution": {
     "iopub.execute_input": "2024-04-03T07:02:27.483089Z",
     "iopub.status.busy": "2024-04-03T07:02:27.482398Z",
     "iopub.status.idle": "2024-04-03T07:02:27.497099Z",
     "shell.execute_reply": "2024-04-03T07:02:27.495770Z"
    },
    "papermill": {
     "duration": 0.031388,
     "end_time": "2024-04-03T07:02:27.499923",
     "exception": false,
     "start_time": "2024-04-03T07:02:27.468535",
     "status": "completed"
    },
    "tags": []
   },
   "outputs": [
    {
     "data": {
      "text/plain": [
       "(31, 50)"
      ]
     },
     "execution_count": 8,
     "metadata": {},
     "output_type": "execute_result"
    }
   ],
   "source": [
    "df[df['AgeCategory']=='Middle-aged']['Age'].min(),df[df['AgeCategory']=='Middle-aged']['Age'].max()"
   ]
  },
  {
   "cell_type": "code",
   "execution_count": 9,
   "id": "1d97aa0a",
   "metadata": {
    "execution": {
     "iopub.execute_input": "2024-04-03T07:02:27.527531Z",
     "iopub.status.busy": "2024-04-03T07:02:27.527151Z",
     "iopub.status.idle": "2024-04-03T07:02:27.541805Z",
     "shell.execute_reply": "2024-04-03T07:02:27.540689Z"
    },
    "papermill": {
     "duration": 0.031291,
     "end_time": "2024-04-03T07:02:27.544236",
     "exception": false,
     "start_time": "2024-04-03T07:02:27.512945",
     "status": "completed"
    },
    "tags": []
   },
   "outputs": [
    {
     "data": {
      "text/plain": [
       "(51, 80)"
      ]
     },
     "execution_count": 9,
     "metadata": {},
     "output_type": "execute_result"
    }
   ],
   "source": [
    "df[df['AgeCategory']=='Senior']['Age'].min(),df[df['AgeCategory']=='Senior']['Age'].max()"
   ]
  },
  {
   "cell_type": "code",
   "execution_count": 10,
   "id": "cba95e76",
   "metadata": {
    "execution": {
     "iopub.execute_input": "2024-04-03T07:02:27.571514Z",
     "iopub.status.busy": "2024-04-03T07:02:27.571138Z",
     "iopub.status.idle": "2024-04-03T07:02:27.576897Z",
     "shell.execute_reply": "2024-04-03T07:02:27.575739Z"
    },
    "papermill": {
     "duration": 0.022103,
     "end_time": "2024-04-03T07:02:27.579116",
     "exception": false,
     "start_time": "2024-04-03T07:02:27.557013",
     "status": "completed"
    },
    "tags": []
   },
   "outputs": [],
   "source": [
    "def age_category(x):\n",
    "    if x in range(0,31):\n",
    "        return 'Young'\n",
    "    elif x in range(31,51):\n",
    "        return 'Middle-aged'\n",
    "    else:\n",
    "        return 'Senior'"
   ]
  },
  {
   "cell_type": "code",
   "execution_count": 11,
   "id": "b10a20a2",
   "metadata": {
    "execution": {
     "iopub.execute_input": "2024-04-03T07:02:27.611231Z",
     "iopub.status.busy": "2024-04-03T07:02:27.610800Z",
     "iopub.status.idle": "2024-04-03T07:02:27.636505Z",
     "shell.execute_reply": "2024-04-03T07:02:27.635359Z"
    },
    "papermill": {
     "duration": 0.042872,
     "end_time": "2024-04-03T07:02:27.639004",
     "exception": false,
     "start_time": "2024-04-03T07:02:27.596132",
     "status": "completed"
    },
    "tags": []
   },
   "outputs": [
    {
     "data": {
      "text/html": [
       "<div>\n",
       "<style scoped>\n",
       "    .dataframe tbody tr th:only-of-type {\n",
       "        vertical-align: middle;\n",
       "    }\n",
       "\n",
       "    .dataframe tbody tr th {\n",
       "        vertical-align: top;\n",
       "    }\n",
       "\n",
       "    .dataframe thead th {\n",
       "        text-align: right;\n",
       "    }\n",
       "</style>\n",
       "<table border=\"1\" class=\"dataframe\">\n",
       "  <thead>\n",
       "    <tr style=\"text-align: right;\">\n",
       "      <th></th>\n",
       "      <th>Height</th>\n",
       "      <th>Age</th>\n",
       "      <th>Income</th>\n",
       "      <th>RomanticGestureScore</th>\n",
       "      <th>CompatibilityScore</th>\n",
       "      <th>CommunicationScore</th>\n",
       "      <th>DistanceKM</th>\n",
       "      <th>Response</th>\n",
       "      <th>AgeCategory</th>\n",
       "    </tr>\n",
       "  </thead>\n",
       "  <tbody>\n",
       "    <tr>\n",
       "      <th>0</th>\n",
       "      <td>156</td>\n",
       "      <td>59</td>\n",
       "      <td>7977</td>\n",
       "      <td>3</td>\n",
       "      <td>1</td>\n",
       "      <td>1</td>\n",
       "      <td>45</td>\n",
       "      <td>1</td>\n",
       "      <td>Senior</td>\n",
       "    </tr>\n",
       "    <tr>\n",
       "      <th>1</th>\n",
       "      <td>169</td>\n",
       "      <td>32</td>\n",
       "      <td>5842</td>\n",
       "      <td>0</td>\n",
       "      <td>1</td>\n",
       "      <td>5</td>\n",
       "      <td>46</td>\n",
       "      <td>1</td>\n",
       "      <td>Middle-aged</td>\n",
       "    </tr>\n",
       "    <tr>\n",
       "      <th>2</th>\n",
       "      <td>178</td>\n",
       "      <td>42</td>\n",
       "      <td>17638</td>\n",
       "      <td>2</td>\n",
       "      <td>5</td>\n",
       "      <td>5</td>\n",
       "      <td>13</td>\n",
       "      <td>0</td>\n",
       "      <td>Middle-aged</td>\n",
       "    </tr>\n",
       "    <tr>\n",
       "      <th>3</th>\n",
       "      <td>164</td>\n",
       "      <td>78</td>\n",
       "      <td>8793</td>\n",
       "      <td>0</td>\n",
       "      <td>0</td>\n",
       "      <td>7</td>\n",
       "      <td>52</td>\n",
       "      <td>0</td>\n",
       "      <td>Senior</td>\n",
       "    </tr>\n",
       "    <tr>\n",
       "      <th>4</th>\n",
       "      <td>160</td>\n",
       "      <td>35</td>\n",
       "      <td>15262</td>\n",
       "      <td>6</td>\n",
       "      <td>0</td>\n",
       "      <td>0</td>\n",
       "      <td>9</td>\n",
       "      <td>1</td>\n",
       "      <td>Middle-aged</td>\n",
       "    </tr>\n",
       "  </tbody>\n",
       "</table>\n",
       "</div>"
      ],
      "text/plain": [
       "   Height  Age  Income  RomanticGestureScore  CompatibilityScore  \\\n",
       "0     156   59    7977                     3                   1   \n",
       "1     169   32    5842                     0                   1   \n",
       "2     178   42   17638                     2                   5   \n",
       "3     164   78    8793                     0                   0   \n",
       "4     160   35   15262                     6                   0   \n",
       "\n",
       "   CommunicationScore  DistanceKM  Response  AgeCategory  \n",
       "0                   1          45         1       Senior  \n",
       "1                   5          46         1  Middle-aged  \n",
       "2                   5          13         0  Middle-aged  \n",
       "3                   7          52         0       Senior  \n",
       "4                   0           9         1  Middle-aged  "
      ]
     },
     "execution_count": 11,
     "metadata": {},
     "output_type": "execute_result"
    }
   ],
   "source": [
    "df['AgeCategory']=df['Age'].apply(age_category)\n",
    "df.head()"
   ]
  },
  {
   "cell_type": "code",
   "execution_count": 12,
   "id": "6e38c473",
   "metadata": {
    "execution": {
     "iopub.execute_input": "2024-04-03T07:02:27.666753Z",
     "iopub.status.busy": "2024-04-03T07:02:27.666385Z",
     "iopub.status.idle": "2024-04-03T07:02:27.941341Z",
     "shell.execute_reply": "2024-04-03T07:02:27.940175Z"
    },
    "papermill": {
     "duration": 0.292032,
     "end_time": "2024-04-03T07:02:27.944057",
     "exception": false,
     "start_time": "2024-04-03T07:02:27.652025",
     "status": "completed"
    },
    "tags": []
   },
   "outputs": [
    {
     "data": {
      "image/png": "[encoded data removed]",
      "text/plain": [
       "<Figure size 1000x500 with 1 Axes>"
      ]
     },
     "metadata": {},
     "output_type": "display_data"
    }
   ],
   "source": [
    "sns.countplot(x=df['AgeCategory'])\n",
    "plt.show()"
   ]
  },
  {
   "cell_type": "code",
   "execution_count": 13,
   "id": "62387aa5",
   "metadata": {
    "execution": {
     "iopub.execute_input": "2024-04-03T07:02:27.972970Z",
     "iopub.status.busy": "2024-04-03T07:02:27.972453Z",
     "iopub.status.idle": "2024-04-03T07:02:27.979276Z",
     "shell.execute_reply": "2024-04-03T07:02:27.978102Z"
    },
    "papermill": {
     "duration": 0.024309,
     "end_time": "2024-04-03T07:02:27.981701",
     "exception": false,
     "start_time": "2024-04-03T07:02:27.957392",
     "status": "completed"
    },
    "tags": []
   },
   "outputs": [],
   "source": [
    "y=df['Response']\n",
    "x=df[['Height', 'Age', 'Income', 'RomanticGestureScore', 'CompatibilityScore','CommunicationScore', 'DistanceKM']]"
   ]
  },
  {
   "cell_type": "code",
   "execution_count": 14,
   "id": "d5cebc09",
   "metadata": {
    "execution": {
     "iopub.execute_input": "2024-04-03T07:02:28.011732Z",
     "iopub.status.busy": "2024-04-03T07:02:28.010966Z",
     "iopub.status.idle": "2024-04-03T07:02:28.018257Z",
     "shell.execute_reply": "2024-04-03T07:02:28.017085Z"
    },
    "papermill": {
     "duration": 0.024827,
     "end_time": "2024-04-03T07:02:28.020544",
     "exception": false,
     "start_time": "2024-04-03T07:02:27.995717",
     "status": "completed"
    },
    "tags": []
   },
   "outputs": [
    {
     "data": {
      "text/plain": [
       "7"
      ]
     },
     "execution_count": 14,
     "metadata": {},
     "output_type": "execute_result"
    }
   ],
   "source": [
    "len(x.columns)"
   ]
  },
  {
   "cell_type": "code",
   "execution_count": 15,
   "id": "ee355a7f",
   "metadata": {
    "execution": {
     "iopub.execute_input": "2024-04-03T07:02:28.051908Z",
     "iopub.status.busy": "2024-04-03T07:02:28.051274Z",
     "iopub.status.idle": "2024-04-03T07:02:30.090216Z",
     "shell.execute_reply": "2024-04-03T07:02:30.088998Z"
    },
    "papermill": {
     "duration": 2.05899,
     "end_time": "2024-04-03T07:02:30.093366",
     "exception": false,
     "start_time": "2024-04-03T07:02:28.034376",
     "status": "completed"
    },
    "tags": []
   },
   "outputs": [
    {
     "data": {
      "image/png": "[encoded data removed]",
      "text/plain": [
       "<Figure size 1000x500 with 7 Axes>"
      ]
     },
     "metadata": {},
     "output_type": "display_data"
    }
   ],
   "source": [
    "r=2\n",
    "c=4\n",
    "it=1\n",
    "for i in x.columns:\n",
    "    plt.subplot(r,c,it)\n",
    "    sns.barplot(x=y,y=i,data=df)\n",
    "    it+=1\n",
    "plt.tight_layout()\n",
    "plt.show()"
   ]
  },
  {
   "cell_type": "code",
   "execution_count": 16,
   "id": "7786ce4a",
   "metadata": {
    "execution": {
     "iopub.execute_input": "2024-04-03T07:02:30.125602Z",
     "iopub.status.busy": "2024-04-03T07:02:30.124937Z",
     "iopub.status.idle": "2024-04-03T07:02:30.315538Z",
     "shell.execute_reply": "2024-04-03T07:02:30.314137Z"
    },
    "papermill": {
     "duration": 0.209568,
     "end_time": "2024-04-03T07:02:30.318644",
     "exception": false,
     "start_time": "2024-04-03T07:02:30.109076",
     "status": "completed"
    },
    "tags": []
   },
   "outputs": [],
   "source": [
    "from sklearn.preprocessing import MinMaxScaler"
   ]
  },
  {
   "cell_type": "code",
   "execution_count": 17,
   "id": "f4659a46",
   "metadata": {
    "execution": {
     "iopub.execute_input": "2024-04-03T07:02:30.349246Z",
     "iopub.status.busy": "2024-04-03T07:02:30.348825Z",
     "iopub.status.idle": "2024-04-03T07:02:30.353230Z",
     "shell.execute_reply": "2024-04-03T07:02:30.352139Z"
    },
    "papermill": {
     "duration": 0.022407,
     "end_time": "2024-04-03T07:02:30.355492",
     "exception": false,
     "start_time": "2024-04-03T07:02:30.333085",
     "status": "completed"
    },
    "tags": []
   },
   "outputs": [],
   "source": [
    "mmax=MinMaxScaler()"
   ]
  },
  {
   "cell_type": "code",
   "execution_count": 18,
   "id": "a46f1088",
   "metadata": {
    "execution": {
     "iopub.execute_input": "2024-04-03T07:02:30.387012Z",
     "iopub.status.busy": "2024-04-03T07:02:30.385959Z",
     "iopub.status.idle": "2024-04-03T07:02:30.409760Z",
     "shell.execute_reply": "2024-04-03T07:02:30.407657Z"
    },
    "papermill": {
     "duration": 0.043165,
     "end_time": "2024-04-03T07:02:30.413113",
     "exception": false,
     "start_time": "2024-04-03T07:02:30.369948",
     "status": "completed"
    },
    "tags": []
   },
   "outputs": [
    {
     "data": {
      "text/html": [
       "<div>\n",
       "<style scoped>\n",
       "    .dataframe tbody tr th:only-of-type {\n",
       "        vertical-align: middle;\n",
       "    }\n",
       "\n",
       "    .dataframe tbody tr th {\n",
       "        vertical-align: top;\n",
       "    }\n",
       "\n",
       "    .dataframe thead th {\n",
       "        text-align: right;\n",
       "    }\n",
       "</style>\n",
       "<table border=\"1\" class=\"dataframe\">\n",
       "  <thead>\n",
       "    <tr style=\"text-align: right;\">\n",
       "      <th></th>\n",
       "      <th>Height</th>\n",
       "      <th>Age</th>\n",
       "      <th>Income</th>\n",
       "      <th>RomanticGestureScore</th>\n",
       "      <th>CompatibilityScore</th>\n",
       "      <th>CommunicationScore</th>\n",
       "      <th>DistanceKM</th>\n",
       "    </tr>\n",
       "  </thead>\n",
       "  <tbody>\n",
       "    <tr>\n",
       "      <th>0</th>\n",
       "      <td>0.200000</td>\n",
       "      <td>0.650000</td>\n",
       "      <td>0.198480</td>\n",
       "      <td>0.3</td>\n",
       "      <td>0.111111</td>\n",
       "      <td>0.111111</td>\n",
       "      <td>0.448980</td>\n",
       "    </tr>\n",
       "    <tr>\n",
       "      <th>1</th>\n",
       "      <td>0.633333</td>\n",
       "      <td>0.200000</td>\n",
       "      <td>0.056137</td>\n",
       "      <td>0.0</td>\n",
       "      <td>0.111111</td>\n",
       "      <td>0.555556</td>\n",
       "      <td>0.459184</td>\n",
       "    </tr>\n",
       "    <tr>\n",
       "      <th>2</th>\n",
       "      <td>0.933333</td>\n",
       "      <td>0.366667</td>\n",
       "      <td>0.842590</td>\n",
       "      <td>0.2</td>\n",
       "      <td>0.555556</td>\n",
       "      <td>0.555556</td>\n",
       "      <td>0.122449</td>\n",
       "    </tr>\n",
       "    <tr>\n",
       "      <th>3</th>\n",
       "      <td>0.466667</td>\n",
       "      <td>0.966667</td>\n",
       "      <td>0.252884</td>\n",
       "      <td>0.0</td>\n",
       "      <td>0.000000</td>\n",
       "      <td>0.777778</td>\n",
       "      <td>0.520408</td>\n",
       "    </tr>\n",
       "    <tr>\n",
       "      <th>4</th>\n",
       "      <td>0.333333</td>\n",
       "      <td>0.250000</td>\n",
       "      <td>0.684179</td>\n",
       "      <td>0.6</td>\n",
       "      <td>0.000000</td>\n",
       "      <td>0.000000</td>\n",
       "      <td>0.081633</td>\n",
       "    </tr>\n",
       "  </tbody>\n",
       "</table>\n",
       "</div>"
      ],
      "text/plain": [
       "     Height       Age    Income  RomanticGestureScore  CompatibilityScore  \\\n",
       "0  0.200000  0.650000  0.198480                   0.3            0.111111   \n",
       "1  0.633333  0.200000  0.056137                   0.0            0.111111   \n",
       "2  0.933333  0.366667  0.842590                   0.2            0.555556   \n",
       "3  0.466667  0.966667  0.252884                   0.0            0.000000   \n",
       "4  0.333333  0.250000  0.684179                   0.6            0.000000   \n",
       "\n",
       "   CommunicationScore  DistanceKM  \n",
       "0            0.111111    0.448980  \n",
       "1            0.555556    0.459184  \n",
       "2            0.555556    0.122449  \n",
       "3            0.777778    0.520408  \n",
       "4            0.000000    0.081633  "
      ]
     },
     "execution_count": 18,
     "metadata": {},
     "output_type": "execute_result"
    }
   ],
   "source": [
    "x=pd.DataFrame(mmax.fit_transform(x),columns=x.columns)\n",
    "x.head()"
   ]
  },
  {
   "cell_type": "code",
   "execution_count": 19,
   "id": "0abc9540",
   "metadata": {
    "execution": {
     "iopub.execute_input": "2024-04-03T07:02:30.453524Z",
     "iopub.status.busy": "2024-04-03T07:02:30.452877Z",
     "iopub.status.idle": "2024-04-03T07:02:30.593592Z",
     "shell.execute_reply": "2024-04-03T07:02:30.592421Z"
    },
    "papermill": {
     "duration": 0.1652,
     "end_time": "2024-04-03T07:02:30.596255",
     "exception": false,
     "start_time": "2024-04-03T07:02:30.431055",
     "status": "completed"
    },
    "tags": []
   },
   "outputs": [],
   "source": [
    "from sklearn.model_selection import train_test_split\n",
    "xtrain,xtest,ytrain,ytest=train_test_split(x,y,test_size=0.30,random_state=42)"
   ]
  },
  {
   "cell_type": "code",
   "execution_count": 20,
   "id": "da25fabc",
   "metadata": {
    "execution": {
     "iopub.execute_input": "2024-04-03T07:02:30.628072Z",
     "iopub.status.busy": "2024-04-03T07:02:30.627639Z",
     "iopub.status.idle": "2024-04-03T07:02:30.632946Z",
     "shell.execute_reply": "2024-04-03T07:02:30.631714Z"
    },
    "papermill": {
     "duration": 0.023925,
     "end_time": "2024-04-03T07:02:30.635354",
     "exception": false,
     "start_time": "2024-04-03T07:02:30.611429",
     "status": "completed"
    },
    "tags": []
   },
   "outputs": [],
   "source": [
    "from sklearn.metrics import accuracy_score,roc_auc_score,roc_curve"
   ]
  },
  {
   "cell_type": "code",
   "execution_count": 21,
   "id": "61f5efdd",
   "metadata": {
    "execution": {
     "iopub.execute_input": "2024-04-03T07:02:30.666546Z",
     "iopub.status.busy": "2024-04-03T07:02:30.666079Z",
     "iopub.status.idle": "2024-04-03T07:02:30.981636Z",
     "shell.execute_reply": "2024-04-03T07:02:30.980480Z"
    },
    "papermill": {
     "duration": 0.334187,
     "end_time": "2024-04-03T07:02:30.984400",
     "exception": false,
     "start_time": "2024-04-03T07:02:30.650213",
     "status": "completed"
    },
    "tags": []
   },
   "outputs": [],
   "source": [
    "from sklearn.linear_model import LogisticRegression\n",
    "from sklearn.tree import DecisionTreeClassifier\n",
    "from sklearn.ensemble import RandomForestClassifier\n",
    "from sklearn.neighbors import KNeighborsClassifier\n",
    "from sklearn.naive_bayes import GaussianNB"
   ]
  },
  {
   "cell_type": "code",
   "execution_count": 22,
   "id": "baf1fa76",
   "metadata": {
    "execution": {
     "iopub.execute_input": "2024-04-03T07:02:31.015913Z",
     "iopub.status.busy": "2024-04-03T07:02:31.015096Z",
     "iopub.status.idle": "2024-04-03T07:02:31.021232Z",
     "shell.execute_reply": "2024-04-03T07:02:31.020117Z"
    },
    "papermill": {
     "duration": 0.024534,
     "end_time": "2024-04-03T07:02:31.023668",
     "exception": false,
     "start_time": "2024-04-03T07:02:30.999134",
     "status": "completed"
    },
    "tags": []
   },
   "outputs": [],
   "source": [
    "lr=LogisticRegression()\n",
    "dt=DecisionTreeClassifier()\n",
    "rf=RandomForestClassifier()\n",
    "knn=KNeighborsClassifier()\n",
    "gnb=GaussianNB()"
   ]
  },
  {
   "cell_type": "code",
   "execution_count": 23,
   "id": "5040cde4",
   "metadata": {
    "execution": {
     "iopub.execute_input": "2024-04-03T07:02:31.055323Z",
     "iopub.status.busy": "2024-04-03T07:02:31.054228Z",
     "iopub.status.idle": "2024-04-03T07:02:31.064395Z",
     "shell.execute_reply": "2024-04-03T07:02:31.063273Z"
    },
    "papermill": {
     "duration": 0.028918,
     "end_time": "2024-04-03T07:02:31.067244",
     "exception": false,
     "start_time": "2024-04-03T07:02:31.038326",
     "status": "completed"
    },
    "tags": []
   },
   "outputs": [],
   "source": [
    "def predictor(model_name):    \n",
    "    print(\"For the {}\".format(model_name))    \n",
    "    model_name.fit(xtrain,ytrain)    \n",
    "    y_pred_train = model_name.predict(xtrain)    \n",
    "    y_pred_test = model_name.predict(xtest)    \n",
    "    print(\"The TRAIN accuracy is\",accuracy_score(ytrain,y_pred_train))    \n",
    "    print(\"The ROC score for TRAIN data is\",roc_auc_score(ytrain,y_pred_train))    \n",
    "    fpr,tpr,thresholds = roc_curve(ytrain,model_name.predict_proba(xtrain)[:,1])    \n",
    "    plt.plot(fpr,tpr)    \n",
    "    plt.plot([0,1],[0,1])    \n",
    "    plt.grid()    \n",
    "    plt.show()    \n",
    "    print(\"--\"*50)    \n",
    "    print(\"The TEST accuracy is\",accuracy_score(ytest,y_pred_test))    \n",
    "    print(\"The ROC score for TEST data is\",roc_auc_score(ytest,y_pred_test))    \n",
    "    fpr,tpr,thresholds = roc_curve(ytest,model_name.predict_proba(xtest)[:,1])    \n",
    "    plt.plot(fpr,tpr)    \n",
    "    plt.plot([0,1],[0,1])    \n",
    "    plt.grid()    \n",
    "    plt.show()"
   ]
  },
  {
   "cell_type": "code",
   "execution_count": 24,
   "id": "28fd2f4c",
   "metadata": {
    "execution": {
     "iopub.execute_input": "2024-04-03T07:02:31.099699Z",
     "iopub.status.busy": "2024-04-03T07:02:31.098892Z",
     "iopub.status.idle": "2024-04-03T07:02:31.147168Z",
     "shell.execute_reply": "2024-04-03T07:02:31.145637Z"
    },
    "papermill": {
     "duration": 0.068313,
     "end_time": "2024-04-03T07:02:31.151245",
     "exception": false,
     "start_time": "2024-04-03T07:02:31.082932",
     "status": "completed"
    },
    "tags": []
   },
   "outputs": [
    {
     "data": {
      "text/html": [
       "<style>#sk-container-id-1 {color: black;background-color: white;}#sk-container-id-1 pre{padding: 0;}#sk-container-id-1 div.sk-toggleable {background-color: white;}#sk-container-id-1 label.sk-toggleable__label {cursor: pointer;display: block;width: 100%;margin-bottom: 0;padding: 0.3em;box-sizing: border-box;text-align: center;}#sk-container-id-1 label.sk-toggleable__label-arrow:before {content: \"▸\";float: left;margin-right: 0.25em;color: #696969;}#sk-container-id-1 label.sk-toggleable__label-arrow:hover:before {color: black;}#sk-container-id-1 div.sk-estimator:hover label.sk-toggleable__label-arrow:before {color: black;}#sk-container-id-1 div.sk-toggleable__content {max-height: 0;max-width: 0;overflow: hidden;text-align: left;background-color: #f0f8ff;}#sk-container-id-1 div.sk-toggleable__content pre {margin: 0.2em;color: black;border-radius: 0.25em;background-color: #f0f8ff;}#sk-container-id-1 input.sk-toggleable__control:checked~div.sk-toggleable__content {max-height: 200px;max-width: 100%;overflow: auto;}#sk-container-id-1 input.sk-toggleable__control:checked~label.sk-toggleable__label-arrow:before {content: \"▾\";}#sk-container-id-1 div.sk-estimator input.sk-toggleable__control:checked~label.sk-toggleable__label {background-color: #d4ebff;}#sk-container-id-1 div.sk-label input.sk-toggleable__control:checked~label.sk-toggleable__label {background-color: #d4ebff;}#sk-container-id-1 input.sk-hidden--visually {border: 0;clip: rect(1px 1px 1px 1px);clip: rect(1px, 1px, 1px, 1px);height: 1px;margin: -1px;overflow: hidden;padding: 0;position: absolute;width: 1px;}#sk-container-id-1 div.sk-estimator {font-family: monospace;background-color: #f0f8ff;border: 1px dotted black;border-radius: 0.25em;box-sizing: border-box;margin-bottom: 0.5em;}#sk-container-id-1 div.sk-estimator:hover {background-color: #d4ebff;}#sk-container-id-1 div.sk-parallel-item::after {content: \"\";width: 100%;border-bottom: 1px solid gray;flex-grow: 1;}#sk-container-id-1 div.sk-label:hover label.sk-toggleable__label {background-color: #d4ebff;}#sk-container-id-1 div.sk-serial::before {content: \"\";position: absolute;border-left: 1px solid gray;box-sizing: border-box;top: 0;bottom: 0;left: 50%;z-index: 0;}#sk-container-id-1 div.sk-serial {display: flex;flex-direction: column;align-items: center;background-color: white;padding-right: 0.2em;padding-left: 0.2em;position: relative;}#sk-container-id-1 div.sk-item {position: relative;z-index: 1;}#sk-container-id-1 div.sk-parallel {display: flex;align-items: stretch;justify-content: center;background-color: white;position: relative;}#sk-container-id-1 div.sk-item::before, #sk-container-id-1 div.sk-parallel-item::before {content: \"\";position: absolute;border-left: 1px solid gray;box-sizing: border-box;top: 0;bottom: 0;left: 50%;z-index: -1;}#sk-container-id-1 div.sk-parallel-item {display: flex;flex-direction: column;z-index: 1;position: relative;background-color: white;}#sk-container-id-1 div.sk-parallel-item:first-child::after {align-self: flex-end;width: 50%;}#sk-container-id-1 div.sk-parallel-item:last-child::after {align-self: flex-start;width: 50%;}#sk-container-id-1 div.sk-parallel-item:only-child::after {width: 0;}#sk-container-id-1 div.sk-dashed-wrapped {border: 1px dashed gray;margin: 0 0.4em 0.5em 0.4em;box-sizing: border-box;padding-bottom: 0.4em;background-color: white;}#sk-container-id-1 div.sk-label label {font-family: monospace;font-weight: bold;display: inline-block;line-height: 1.2em;}#sk-container-id-1 div.sk-label-container {text-align: center;}#sk-container-id-1 div.sk-container {/* jupyter's `normalize.less` sets `[hidden] { display: none; }` but bootstrap.min.css set `[hidden] { display: none !important; }` so we also need the `!important` here to be able to override the default hidden behavior on the sphinx rendered scikit-learn.org. See: https://github.com/scikit-learn/scikit-learn/issues/21755 */display: inline-block !important;position: relative;}#sk-container-id-1 div.sk-text-repr-fallback {display: none;}</style><div id=\"sk-container-id-1\" class=\"sk-top-container\"><div class=\"sk-text-repr-fallback\"><pre>LogisticRegression()</pre><b>In a Jupyter environment, please rerun this cell to show the HTML representation or trust the notebook. <br />On GitHub, the HTML representation is unable to render, please try loading this page with nbviewer.org.</b></div><div class=\"sk-container\" hidden><div class=\"sk-item\"><div class=\"sk-estimator sk-toggleable\"><input class=\"sk-toggleable__control sk-hidden--visually\" id=\"sk-estimator-id-1\" type=\"checkbox\" checked><label for=\"sk-estimator-id-1\" class=\"sk-toggleable__label sk-toggleable__label-arrow\">LogisticRegression</label><div class=\"sk-toggleable__content\"><pre>LogisticRegression()</pre></div></div></div></div></div>"
      ],
      "text/plain": [
       "LogisticRegression()"
      ]
     },
     "execution_count": 24,
     "metadata": {},
     "output_type": "execute_result"
    }
   ],
   "source": [
    "lr=LogisticRegression()\n",
    "lr_model=lr.fit(xtrain,ytrain)\n",
    "lr_model"
   ]
  },
  {
   "cell_type": "code",
   "execution_count": 25,
   "id": "b5ef80b4",
   "metadata": {
    "execution": {
     "iopub.execute_input": "2024-04-03T07:02:31.250423Z",
     "iopub.status.busy": "2024-04-03T07:02:31.249678Z",
     "iopub.status.idle": "2024-04-03T07:02:31.258794Z",
     "shell.execute_reply": "2024-04-03T07:02:31.257933Z"
    },
    "papermill": {
     "duration": 0.049914,
     "end_time": "2024-04-03T07:02:31.263099",
     "exception": false,
     "start_time": "2024-04-03T07:02:31.213185",
     "status": "completed"
    },
    "tags": []
   },
   "outputs": [
    {
     "data": {
      "text/plain": [
       "-0.19320851475102616"
      ]
     },
     "execution_count": 25,
     "metadata": {},
     "output_type": "execute_result"
    }
   ],
   "source": [
    "lr_model.intercept_[0]"
   ]
  },
  {
   "cell_type": "code",
   "execution_count": 26,
   "id": "55666912",
   "metadata": {
    "execution": {
     "iopub.execute_input": "2024-04-03T07:02:31.303099Z",
     "iopub.status.busy": "2024-04-03T07:02:31.302309Z",
     "iopub.status.idle": "2024-04-03T07:02:31.309048Z",
     "shell.execute_reply": "2024-04-03T07:02:31.308184Z"
    },
    "papermill": {
     "duration": 0.027818,
     "end_time": "2024-04-03T07:02:31.311348",
     "exception": false,
     "start_time": "2024-04-03T07:02:31.283530",
     "status": "completed"
    },
    "tags": []
   },
   "outputs": [
    {
     "data": {
      "text/plain": [
       "array([0.07190203, 0.06781628, 0.0838068 , 0.03303326, 0.04042617,\n",
       "       0.10797399, 0.0069357 ])"
      ]
     },
     "execution_count": 26,
     "metadata": {},
     "output_type": "execute_result"
    }
   ],
   "source": [
    "lr_model.coef_[0]"
   ]
  },
  {
   "cell_type": "code",
   "execution_count": 27,
   "id": "5ee720ab",
   "metadata": {
    "execution": {
     "iopub.execute_input": "2024-04-03T07:02:31.343379Z",
     "iopub.status.busy": "2024-04-03T07:02:31.342989Z",
     "iopub.status.idle": "2024-04-03T07:02:31.349118Z",
     "shell.execute_reply": "2024-04-03T07:02:31.347762Z"
    },
    "papermill": {
     "duration": 0.025013,
     "end_time": "2024-04-03T07:02:31.351671",
     "exception": false,
     "start_time": "2024-04-03T07:02:31.326658",
     "status": "completed"
    },
    "tags": []
   },
   "outputs": [],
   "source": [
    "def sigmoid(x):\n",
    "    res=1/(1+np.exp(-x))\n",
    "    if res < 0.5:\n",
    "        return 0\n",
    "    else:\n",
    "        return 1\n"
   ]
  },
  {
   "cell_type": "code",
   "execution_count": 28,
   "id": "5a520829",
   "metadata": {
    "execution": {
     "iopub.execute_input": "2024-04-03T07:02:31.384128Z",
     "iopub.status.busy": "2024-04-03T07:02:31.383709Z",
     "iopub.status.idle": "2024-04-03T07:02:31.390452Z",
     "shell.execute_reply": "2024-04-03T07:02:31.389295Z"
    },
    "papermill": {
     "duration": 0.025774,
     "end_time": "2024-04-03T07:02:31.392914",
     "exception": false,
     "start_time": "2024-04-03T07:02:31.367140",
     "status": "completed"
    },
    "tags": []
   },
   "outputs": [
    {
     "data": {
      "text/plain": [
       "0"
      ]
     },
     "execution_count": 28,
     "metadata": {},
     "output_type": "execute_result"
    }
   ],
   "source": [
    "sigmoid(lr_model.intercept_[0])"
   ]
  },
  {
   "cell_type": "code",
   "execution_count": 29,
   "id": "1ef5447c",
   "metadata": {
    "execution": {
     "iopub.execute_input": "2024-04-03T07:02:31.425628Z",
     "iopub.status.busy": "2024-04-03T07:02:31.425214Z",
     "iopub.status.idle": "2024-04-03T07:02:31.433927Z",
     "shell.execute_reply": "2024-04-03T07:02:31.430872Z"
    },
    "papermill": {
     "duration": 0.027993,
     "end_time": "2024-04-03T07:02:31.436476",
     "exception": false,
     "start_time": "2024-04-03T07:02:31.408483",
     "status": "completed"
    },
    "tags": []
   },
   "outputs": [
    {
     "data": {
      "text/plain": [
       "7"
      ]
     },
     "execution_count": 29,
     "metadata": {},
     "output_type": "execute_result"
    }
   ],
   "source": [
    "len(xtrain.columns)"
   ]
  },
  {
   "cell_type": "code",
   "execution_count": null,
   "id": "750303dd",
   "metadata": {
    "execution": {
     "iopub.execute_input": "2024-04-03T06:52:37.177854Z",
     "iopub.status.busy": "2024-04-03T06:52:37.177341Z",
     "iopub.status.idle": "2024-04-03T06:52:37.186836Z",
     "shell.execute_reply": "2024-04-03T06:52:37.185428Z",
     "shell.execute_reply.started": "2024-04-03T06:52:37.177814Z"
    },
    "papermill": {
     "duration": 0.01529,
     "end_time": "2024-04-03T07:02:31.467497",
     "exception": false,
     "start_time": "2024-04-03T07:02:31.452207",
     "status": "completed"
    },
    "tags": []
   },
   "outputs": [],
   "source": []
  },
  {
   "cell_type": "code",
   "execution_count": 30,
   "id": "0cd8830e",
   "metadata": {
    "execution": {
     "iopub.execute_input": "2024-04-03T07:02:31.503268Z",
     "iopub.status.busy": "2024-04-03T07:02:31.502080Z",
     "iopub.status.idle": "2024-04-03T07:02:31.510129Z",
     "shell.execute_reply": "2024-04-03T07:02:31.509328Z"
    },
    "papermill": {
     "duration": 0.028223,
     "end_time": "2024-04-03T07:02:31.512346",
     "exception": false,
     "start_time": "2024-04-03T07:02:31.484123",
     "status": "completed"
    },
    "tags": []
   },
   "outputs": [
    {
     "data": {
      "text/plain": [
       "[(0.07190202954909482, 0.833333333333333),\n",
       " (0.06781627910896618, 0.7166666666666668),\n",
       " (0.08380680295951487, 0.32735515701046736),\n",
       " (0.033033258361372254, 0.30000000000000004),\n",
       " (0.04042616826434156, 0.3333333333333333),\n",
       " (0.10797399401366305, 0.0),\n",
       " (0.006935701496377457, 0.13265306122448978)]"
      ]
     },
     "execution_count": 30,
     "metadata": {},
     "output_type": "execute_result"
    }
   ],
   "source": [
    "list(zip([i for i in lr_model.coef_[0]],xtest[0:1].values[0]))"
   ]
  },
  {
   "cell_type": "code",
   "execution_count": 31,
   "id": "629648be",
   "metadata": {
    "execution": {
     "iopub.execute_input": "2024-04-03T07:02:31.546463Z",
     "iopub.status.busy": "2024-04-03T07:02:31.546023Z",
     "iopub.status.idle": "2024-04-03T07:02:31.552820Z",
     "shell.execute_reply": "2024-04-03T07:02:31.551589Z"
    },
    "papermill": {
     "duration": 0.026827,
     "end_time": "2024-04-03T07:02:31.555283",
     "exception": false,
     "start_time": "2024-04-03T07:02:31.528456",
     "status": "completed"
    },
    "tags": []
   },
   "outputs": [],
   "source": [
    "def check(x):\n",
    "    a=list(zip([i for i in lr_model.coef_[0]],x))\n",
    "    res1=[i*j for i,j in a]\n",
    "    \n",
    "    res=sum(res1)+lr_model.intercept_[0]\n",
    "    return sigmoid(res)\n",
    "    \n",
    "    \n",
    "    "
   ]
  }
 ],
 "metadata": {
  "kaggle": {
   "accelerator": "none",
   "dataSources": [
    {
     "datasetId": 4508316,
     "sourceId": 7718739,
     "sourceType": "datasetVersion"
    }
   ],
   "dockerImageVersionId": 30673,
   "isGpuEnabled": false,
   "isInternetEnabled": true,
   "language": "python",
   "sourceType": "notebook"
  },
  "kernelspec": {
   "display_name": "Python 3",
   "language": "python",
   "name": "python3"
  },
  "language_info": {
   "codemirror_mode": {
    "name": "ipython",
    "version": 3
   },
   "file_extension": ".py",
   "mimetype": "text/x-python",
   "name": "python",
   "nbconvert_exporter": "python",
   "pygments_lexer": "ipython3",
   "version": "3.11.7"
  },
  "papermill": {
   "default_parameters": {},
   "duration": 11.001799,
   "end_time": "2024-04-03T07:02:32.316535",
   "environment_variables": {},
   "exception": null,
   "input_path": "__notebook__.ipynb",
   "output_path": "__notebook__.ipynb",
   "parameters": {},
   "start_time": "2024-04-03T07:02:21.314736",
   "version": "2.5.0"
  }
 },
 "nbformat": 4,
 "nbformat_minor": 5
}
